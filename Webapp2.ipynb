{
  "nbformat": 4,
  "nbformat_minor": 0,
  "metadata": {
    "colab": {
      "provenance": []
    },
    "kernelspec": {
      "name": "python3",
      "display_name": "Python 3"
    },
    "language_info": {
      "name": "python"
    }
  },
  "cells": [
    {
      "cell_type": "code",
      "execution_count": null,
      "metadata": {
        "id": "UXAr0moWZ2uv"
      },
      "outputs": [],
      "source": [
        "import streamlit as st\n",
        "import numpy as np\n",
        "from PIL import Image \n",
        "import tensorflow as tf\n",
        "from tensorflow.keras.models import load_model\n",
        "\n",
        "\n",
        " \n",
        "from tempfile import NamedTemporaryFile\n",
        "from tensorflow.keras.preprocessing import image \n",
        "\n",
        "st.set_option('deprecation.showfileUploaderEncoding', False)\n",
        "@st.cache(allow_output_mutation=True)\n",
        "\n",
        "def loading_model():\n",
        "  fp = \"cnn_pneu_vamp_models.h5\"\n",
        "  model_loader = load_model(fp)\n",
        "  return model_loader\n",
        "\n",
        "cnn = loading_model()\n",
        "st.write(\"\"\"\n",
        "# X-Ray Classification (Pneumonia/Normal)\n",
        "\"\"\")\n",
        "\n",
        "\n",
        "types = ['jpg', 'jpeg', 'webp', 'png']\n",
        "  \n",
        "\n",
        "\n",
        "temp = st.file_uploader(\"Upload X-Ray Image\", type = types)\n",
        "\n",
        "buffer = temp\n",
        "temp_file = NamedTemporaryFile(delete=False)\n",
        "if buffer:\n",
        "    temp_file.write(buffer.getvalue())\n",
        "    st.write(image.load_img(temp_file.name))\n",
        "\n",
        "\n",
        "if buffer is None:\n",
        "  st.text(\"Please Upload an Image\")\n",
        "\n",
        "else:\n",
        "\n",
        " \n",
        "\n",
        "  img = image.load_img(temp_file.name, target_size=(500, 500),color_mode='grayscale')\n",
        "\n",
        "  # Preprocessing the image\n",
        "  pp_img = image.img_to_array(img)\n",
        "  pp_img = pp_img/255\n",
        "  pp_img = np.expand_dims(pp_img, axis=0)\n",
        "\n",
        "  #predict\n",
        "  preds= cnn.predict(pp_img)\n",
        "  if preds >= 0.2:\n",
        "    out = ('{:.2%} confident that this is Pneumonia'.format(preds[0][0]))\n",
        "  \n",
        "  else: \n",
        "    out = ('{:.2%} confident that this is Normal'.format(1-preds[0][0]))\n",
        "\n",
        "  st.success(out)\n",
        "  \n",
        "  image = Image.open(temp)\n",
        "  st.image(image,use_column_width=True)\n",
        "          \n",
        "            \n",
        "\n",
        "  \n",
        "\n",
        "  "
      ]
    }
  ]
}